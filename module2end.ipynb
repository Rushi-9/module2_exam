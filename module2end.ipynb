{
  "nbformat": 4,
  "nbformat_minor": 0,
  "metadata": {
    "colab": {
      "name": "module2end.ipynb",
      "provenance": []
    },
    "kernelspec": {
      "name": "python3",
      "display_name": "Python 3"
    },
    "language_info": {
      "name": "python"
    }
  },
  "cells": [
    {
      "cell_type": "code",
      "execution_count": null,
      "metadata": {
        "id": "95RkMGhLl3Zv"
      },
      "outputs": [],
      "source": [
        ""
      ]
    },
    {
      "cell_type": "markdown",
      "source": [
        "Q.1Convert given hrs & mins in second"
      ],
      "metadata": {
        "id": "svN2dtRmm4qE"
      }
    },
    {
      "cell_type": "code",
      "source": [
        "hr=int(input('enter hours: '))\n",
        "min=int(input('enter minutes: '))\n",
        "sec=(hr*3600)+(min*60)\n",
        "print(hr,'hours and',min,'minutes are total',sec,'seconds.')"
      ],
      "metadata": {
        "colab": {
          "base_uri": "https://localhost:8080/"
        },
        "id": "Y3xDKp6AnCYM",
        "outputId": "ed85465a-5aa9-45f7-dbed-b6f56728a2c6"
      },
      "execution_count": null,
      "outputs": [
        {
          "output_type": "stream",
          "name": "stdout",
          "text": [
            "enter hours: 3\n",
            "enter minutes: 15\n",
            "3 hours and 15 minutes are total 11700 seconds.\n"
          ]
        }
      ]
    },
    {
      "cell_type": "code",
      "source": [
        ""
      ],
      "metadata": {
        "id": "UUMFAe20nv_O"
      },
      "execution_count": null,
      "outputs": []
    },
    {
      "cell_type": "markdown",
      "source": [
        "Q.3 print pattern"
      ],
      "metadata": {
        "id": "iOqxKgAtox-z"
      }
    },
    {
      "cell_type": "code",
      "source": [
        "for i in range(1,6,1):\n",
        "  for j in range(1,i+1,1):\n",
        "    print(j%2,end=\" \")\n",
        "  print()"
      ],
      "metadata": {
        "colab": {
          "base_uri": "https://localhost:8080/"
        },
        "id": "jQLYykw0o8tp",
        "outputId": "6f6045cf-3005-4b0a-e93c-0badc811b7ec"
      },
      "execution_count": null,
      "outputs": [
        {
          "output_type": "stream",
          "name": "stdout",
          "text": [
            "1 \n",
            "1 0 \n",
            "1 0 1 \n",
            "1 0 1 0 \n",
            "1 0 1 0 1 \n"
          ]
        }
      ]
    },
    {
      "cell_type": "markdown",
      "source": [
        "Q8.PRINT PATTERN"
      ],
      "metadata": {
        "id": "KgP8dkFVvCpg"
      }
    },
    {
      "cell_type": "code",
      "source": [
        "a='13567'\n",
        "for i in range(0,len(a)):\n",
        "    print(a[i]*(i+1))\n",
        "\n",
        "  "
      ],
      "metadata": {
        "colab": {
          "base_uri": "https://localhost:8080/"
        },
        "id": "L0GtSNUWvGmv",
        "outputId": "97b1ced0-769b-4b2d-aaa2-6ae977fd89de"
      },
      "execution_count": null,
      "outputs": [
        {
          "output_type": "stream",
          "name": "stdout",
          "text": [
            "1\n",
            "33\n",
            "555\n",
            "6666\n",
            "77777\n"
          ]
        }
      ]
    },
    {
      "cell_type": "markdown",
      "source": [
        "Q10.Create menu driven code for\n",
        "1) Accept 2 numbers\n",
        "2) Add\n",
        "3) Sub\n",
        "4) Mul\n",
        "5) Div"
      ],
      "metadata": {
        "id": "EEjbNOVVwwyl"
      }
    },
    {
      "cell_type": "code",
      "source": [
        "class math:\n",
        "  def __init__(self,a,b):\n",
        "    self.a=a\n",
        "    self.b=b\n",
        "  def Add(self):\n",
        "    return self.a+self.b\n",
        "  def Sub(self):\n",
        "    return self.a-self.b\n",
        "  def Mul(self):\n",
        "    return self.a*self.b\n",
        "  def Div(self):\n",
        "    return self.a/self.b\n"
      ],
      "metadata": {
        "id": "lbfyJ8sBw3R9"
      },
      "execution_count": null,
      "outputs": []
    },
    {
      "cell_type": "code",
      "source": [
        "x=math(10,5)"
      ],
      "metadata": {
        "id": "Dqj-luZkpUen"
      },
      "execution_count": null,
      "outputs": []
    },
    {
      "cell_type": "code",
      "source": [
        "print(x.Add())\n",
        "print(x.Sub())\n",
        "print(x.Mul())\n",
        "print(x.Div())"
      ],
      "metadata": {
        "colab": {
          "base_uri": "https://localhost:8080/"
        },
        "id": "2uw7KHhex56z",
        "outputId": "1a4f8d00-49de-47af-8403-bf808d3f43e2"
      },
      "execution_count": null,
      "outputs": [
        {
          "output_type": "stream",
          "name": "stdout",
          "text": [
            "15\n",
            "5\n",
            "50\n",
            "2.0\n"
          ]
        }
      ]
    },
    {
      "cell_type": "markdown",
      "source": [
        "Q9.Accept String & print only alternate\n",
        "characters on a string.\n",
        "Ex: this i s a _ test"
      ],
      "metadata": {
        "id": "uHN6UMybyvQH"
      }
    },
    {
      "cell_type": "code",
      "source": [
        "s=input(\"enter the string: \")\n",
        "print(s[1::2])"
      ],
      "metadata": {
        "colab": {
          "base_uri": "https://localhost:8080/"
        },
        "id": "IzYBPreuyOHL",
        "outputId": "bf0f51e4-1651-459a-bddd-77c96953b70e"
      },
      "execution_count": null,
      "outputs": [
        {
          "output_type": "stream",
          "name": "stdout",
          "text": [
            "enter the string: rushikesh\n",
            "uhks\n"
          ]
        }
      ]
    },
    {
      "cell_type": "markdown",
      "source": [
        "Q.6) Read file & count numbers of digit\n",
        "alphabets & symbols\n",
        "(hint one can compare using ‘a’ < digit <\n",
        "‘z‘."
      ],
      "metadata": {
        "id": "NF3ROyHD0TP6"
      }
    },
    {
      "cell_type": "code",
      "source": [
        "a=input(\"enter a string : \")\n",
        "d=l=0\n",
        "for c in a:\n",
        "  if c.isdigit():\n",
        "      d=d+1\n",
        "  elif c.isalpha():\n",
        "      l=l+1\n",
        "  else:\n",
        "      pass\n",
        "  print(\"letters\",l)\n",
        "  print(\"Digits\",d)"
      ],
      "metadata": {
        "colab": {
          "base_uri": "https://localhost:8080/"
        },
        "id": "ftE-pcEZzDzz",
        "outputId": "62ae08f0-53df-4a08-9a54-ecae9a5ee022"
      },
      "execution_count": null,
      "outputs": [
        {
          "output_type": "stream",
          "name": "stdout",
          "text": [
            "enter a string : rushikesh1997\n",
            "letters 1\n",
            "Digits 0\n",
            "letters 2\n",
            "Digits 0\n",
            "letters 3\n",
            "Digits 0\n",
            "letters 4\n",
            "Digits 0\n",
            "letters 5\n",
            "Digits 0\n",
            "letters 6\n",
            "Digits 0\n",
            "letters 7\n",
            "Digits 0\n",
            "letters 8\n",
            "Digits 0\n",
            "letters 9\n",
            "Digits 0\n",
            "letters 9\n",
            "Digits 1\n",
            "letters 9\n",
            "Digits 2\n",
            "letters 9\n",
            "Digits 3\n",
            "letters 9\n",
            "Digits 4\n"
          ]
        }
      ]
    },
    {
      "cell_type": "markdown",
      "source": [
        "Q.10) Create menu driven code for\n",
        "1) Accept 2 numbers\n",
        "2) Add\n",
        "3) Sub\n",
        "4) Mul\n",
        "5) Div"
      ],
      "metadata": {
        "id": "a0zR7Gaj3v9A"
      }
    },
    {
      "cell_type": "code",
      "source": [
        "while True:\n",
        "  a=input(print(\"1)Accept 2 numbers\\n2)add\\n3)sub\\n4)mul\\n5)div\\n6)exit\"))\n",
        "  if a=='1':\n",
        "    b=int(input(\"enter first number: \"))\n",
        "    c=int(input(\"enter second number: \"))\n",
        "  elif a=='2':\n",
        "    print(\"addition of\",b,'and',c,'is',b+c)\n",
        "  elif a=='3':\n",
        "    print(\"subtraction of\",b,'and',c,'is',b-c)\n",
        "  elif a=='4':\n",
        "    print(\"multiplication of\",b,'and',c,'is',b*c)\n",
        "  elif a=='5':\n",
        "    print(\"division of\",b,'and',c,'is',b/c)\n",
        "  elif a=='6':\n",
        "    print(\"exit\")\n",
        "    break\n",
        "\n",
        "\n",
        "\n",
        "\n",
        "    \n",
        "    "
      ],
      "metadata": {
        "colab": {
          "base_uri": "https://localhost:8080/"
        },
        "id": "CQ9g_e7_07XQ",
        "outputId": "14e2b244-af16-41ca-a220-6aad733caf36"
      },
      "execution_count": null,
      "outputs": [
        {
          "output_type": "stream",
          "name": "stdout",
          "text": [
            "1)Accept 2 numbers\n",
            "2)add\n",
            "3)sub\n",
            "4)mul\n",
            "5)div\n",
            "6)exit\n",
            "1\n",
            "enter first number: 23\n",
            "enter second number: 45\n",
            "1)Accept 2 numbers\n",
            "2)add\n",
            "3)sub\n",
            "4)mul\n",
            "5)div\n",
            "6)exit\n",
            "2\n",
            "addition of 23 and 45 is 68\n",
            "1)Accept 2 numbers\n",
            "2)add\n",
            "3)sub\n",
            "4)mul\n",
            "5)div\n",
            "6)exit\n"
          ]
        }
      ]
    },
    {
      "cell_type": "code",
      "source": [
        ""
      ],
      "metadata": {
        "id": "-NhlqvY050ly"
      },
      "execution_count": null,
      "outputs": []
    }
  ]
}